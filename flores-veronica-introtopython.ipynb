{
 "cells": [
  {
   "cell_type": "markdown",
   "metadata": {},
   "source": [
    "**182016**\n",
    "<br>\n",
    "Flores\n",
    "<br>\n",
    "3 BS ITE"
   ]
  },
  {
   "cell_type": "code",
   "execution_count": 15,
   "metadata": {},
   "outputs": [],
   "source": [
    "def three_number_average(x,y,z):\n",
    "    average = (x+y+z)/3\n",
    "    return average\n",
    "    "
   ]
  },
  {
   "cell_type": "code",
   "execution_count": 18,
   "metadata": {},
   "outputs": [
    {
     "name": "stdout",
     "output_type": "stream",
     "text": [
      "Enter first number: 3\n",
      "Enter second number: 4\n",
      "Enter third nubmer: 5\n",
      "The average is 4.0\n"
     ]
    }
   ],
   "source": [
    "one = int(input('Enter first number: '))\n",
    "two = int(input('Enter second number: '))\n",
    "three = int(input('Enter third nubmer: '))\n",
    "\n",
    "averaged = three_number_average(one,two,three)\n",
    "\n",
    "print('The average is', averaged)\n",
    "\n"
   ]
  }
 ],
 "metadata": {
  "kernelspec": {
   "display_name": "Python 3",
   "language": "python",
   "name": "python3"
  },
  "language_info": {
   "codemirror_mode": {
    "name": "ipython",
    "version": 3
   },
   "file_extension": ".py",
   "mimetype": "text/x-python",
   "name": "python",
   "nbconvert_exporter": "python",
   "pygments_lexer": "ipython3",
   "version": "3.8.3"
  }
 },
 "nbformat": 4,
 "nbformat_minor": 4
}
